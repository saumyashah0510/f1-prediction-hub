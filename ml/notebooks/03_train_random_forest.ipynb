{
 "cells": [
  {
   "cell_type": "markdown",
   "id": "5443e8e8",
   "metadata": {},
   "source": [
    "# 🏎️ Model 1: Random Forest Baseline\n",
    "\n",
    "**Process:**\n",
    "1. Train baseline Random Forest\n",
    "2. Define hyperparameter search space\n",
    "3. Use RandomizedSearchCV to find optimal parameters\n",
    "4. Compare baseline vs optimized model\n",
    "5. Visualize performance improvements\n",
    "6. Save the best model"
   ]
  },
  {
   "cell_type": "markdown",
   "id": "27525436",
   "metadata": {},
   "source": [
    "## Step 1 : Import Libraries"
   ]
  },
  {
   "cell_type": "code",
   "execution_count": null,
   "id": "81cb0dbf",
   "metadata": {},
   "outputs": [],
   "source": [
    "import pandas as pd\n",
    "import numpy as np\n",
    "import matplotlib.pyplot as plt\n",
    "import seaborn as sns\n",
    "import json\n",
    "import joblib\n",
    "import os\n",
    "from pathlib import Path\n",
    "from datetime import datetime\n",
    "\n",
    "from sklearn.ensemble import RandomForestRegressor\n"
   ]
  }
 ],
 "metadata": {
  "language_info": {
   "name": "python"
  }
 },
 "nbformat": 4,
 "nbformat_minor": 5
}
